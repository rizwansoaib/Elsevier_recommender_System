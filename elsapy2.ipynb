{
 "cells": [
  {
   "cell_type": "code",
   "execution_count": 20,
   "metadata": {},
   "outputs": [
    {
     "name": "stdout",
     "output_type": "stream",
     "text": [
      "\n"
     ]
    }
   ],
   "source": [
    "from elsapy.elsclient import ElsClient\n",
    "from elsapy.elsprofile import ElsAuthor, ElsAffil\n",
    "from elsapy.elsdoc import FullDoc, AbsDoc\n",
    "from elsapy.elssearch import ElsSearch\n",
    "import json\n",
    "import pandas as pd\n",
    "pd.set_option('display.max_rows', 500)\n",
    "pd.set_option('display.max_columns', 500)\n",
    "pd.set_option('display.width', 10000)\n",
    "  \n",
    "\n",
    "con_file = open(\"config.json\")\n",
    "config = json.load(con_file)\n",
    "con_file.close()\n",
    "\n",
    "\n",
    "client = ElsClient(config['apikey'])\n",
    "client.inst_token = config['insttoken']\n",
    "\n",
    "\n",
    "\n",
    "\n",
    "\n",
    "\n",
    "scp_doc = AbsDoc(scp_id = 84872135457)\n",
    "if scp_doc.read(client):\n",
    "    print ()\n",
    "      \n",
    "else:\n",
    "    print (\"Read document failed.\")\n",
    "\n",
    "aff={}\n",
    "for index in scp_doc.data['affiliation']:\n",
    "    for key,value in index.items():\n",
    "        if aff.get(key) is None:\n",
    "            aff[key]=[value]\n",
    "        else:\n",
    "            aff[key].append(value)\n",
    "            \n",
    "\n",
    "#a=[Name,Surname,Auid,Date,Url,Pii,Citation_count,Title,Pub_name,Doi,Identifier,affiliation_city_str,affilname_str,affiliation_country_str]\n",
    "\n",
    "\n",
    "    \n"
   ]
  },
  {
   "cell_type": "code",
   "execution_count": 21,
   "metadata": {},
   "outputs": [],
   "source": [
    "affiliation_city=aff['affiliation-city']\n",
    "affilname=aff['affilname']\n",
    "affiliation_country=aff['affiliation-country']\n",
    "Date=scp_doc.data['coredata']['prism:coverDate']\n",
    "Url=scp_doc.data['coredata']['prism:url']\n",
    "Creator=scp_doc.data['coredata']['dc:creator']\n",
    "Pii=scp_doc.data['coredata']['pii']\n",
    "Citation_count=scp_doc.data['coredata']['citedby-count']\n",
    "Title=scp_doc.data['coredata']['dc:title']\n",
    "Pub_name=scp_doc.data['coredata']['prism:publicationName']\n",
    "Doi=scp_doc.data['coredata']['prism:doi']\n",
    "Identifier=scp_doc.data['coredata']['dc:identifier']\n",
    "Name=scp_doc.data['coredata']['dc:creator']['author'][0]['ce:given-name']\n",
    "Surname=scp_doc.data['coredata']['dc:creator']['author'][0]['ce:surname']\n",
    "Auid=scp_doc.data['coredata']['dc:creator']['author'][0]['@auid']\n",
    "\n",
    "affiliation_city_str=\"\"\n",
    "for x in affiliation_city:  \n",
    "    affiliation_city_str+=x+\",\"\n",
    "affilname_str=\"\"\n",
    "for x in affilname:  \n",
    "    affilname_str+=x+\",\"\n",
    "affiliation_country_str=\"\"\n",
    "for x in affiliation_country:  \n",
    "    affiliation_country_str+=x+\",\"\n"
   ]
  },
  {
   "cell_type": "code",
   "execution_count": 26,
   "metadata": {},
   "outputs": [
    {
     "data": {
      "text/html": [
       "<div>\n",
       "<style scoped>\n",
       "    .dataframe tbody tr th:only-of-type {\n",
       "        vertical-align: middle;\n",
       "    }\n",
       "\n",
       "    .dataframe tbody tr th {\n",
       "        vertical-align: top;\n",
       "    }\n",
       "\n",
       "    .dataframe thead th {\n",
       "        text-align: right;\n",
       "    }\n",
       "</style>\n",
       "<table border=\"1\" class=\"dataframe\">\n",
       "  <thead>\n",
       "    <tr style=\"text-align: right;\">\n",
       "      <th></th>\n",
       "      <th>Name</th>\n",
       "      <th>Surname</th>\n",
       "      <th>Auth_id</th>\n",
       "      <th>Pii</th>\n",
       "      <th>Doi</th>\n",
       "      <th>Identifier</th>\n",
       "    </tr>\n",
       "  </thead>\n",
       "  <tbody>\n",
       "    <tr>\n",
       "      <td>0</td>\n",
       "      <td>Markus</td>\n",
       "      <td>Kretz</td>\n",
       "      <td>6701538998</td>\n",
       "      <td>NATURE11661</td>\n",
       "      <td>10.1038/nature11661</td>\n",
       "      <td>SCOPUS_ID:84872135457</td>\n",
       "    </tr>\n",
       "  </tbody>\n",
       "</table>\n",
       "</div>"
      ],
      "text/plain": [
       "     Name Surname     Auth_id          Pii                  Doi             Identifier\n",
       "0  Markus   Kretz  6701538998  NATURE11661  10.1038/nature11661  SCOPUS_ID:84872135457"
      ]
     },
     "execution_count": 26,
     "metadata": {},
     "output_type": "execute_result"
    }
   ],
   "source": [
    "\n",
    "a = pd.Series(data=[Name])\n",
    "b = pd.Series(data=[Surname])\n",
    "c = pd.Series(data=[Auid])\n",
    "d = pd.Series(data=[Pii])\n",
    "e = pd.Series(data=[Doi])\n",
    "f = pd.Series(data=[Identifier])\n",
    "g = pd.Series(data=[Title])\n",
    "h = pd.Series(data=[Pub_name])\n",
    "i = pd.Series(data=[Date])\n",
    "j = pd.Series(data=[Citation_count])\n",
    "k = pd.Series(data=[Url])\n",
    "l = pd.Series(data=[affilname_str])\n",
    "m = pd.Series(data=[affiliation_city_str])\n",
    "n = pd.Series(data=[affiliation_country_str])\n",
    "frame = { 'Name':a, 'Surname':b,'Auth_id':c, 'Pii':d,'Doi':e, 'Identifier':f,'Title':g, 'Pub_name':h,'Date':i,'Citation':j,'Url':k,'Affiliation_name':l,'Affiliation_city':m,'Affiliation_country':n } \n",
    "\n",
    "df=pd.DataFrame(frame)\n",
    "\n",
    "df.loc[:,:'Identifier']"
   ]
  },
  {
   "cell_type": "code",
   "execution_count": 28,
   "metadata": {},
   "outputs": [
    {
     "data": {
      "text/html": [
       "<div>\n",
       "<style scoped>\n",
       "    .dataframe tbody tr th:only-of-type {\n",
       "        vertical-align: middle;\n",
       "    }\n",
       "\n",
       "    .dataframe tbody tr th {\n",
       "        vertical-align: top;\n",
       "    }\n",
       "\n",
       "    .dataframe thead th {\n",
       "        text-align: right;\n",
       "    }\n",
       "</style>\n",
       "<table border=\"1\" class=\"dataframe\">\n",
       "  <thead>\n",
       "    <tr style=\"text-align: right;\">\n",
       "      <th></th>\n",
       "      <th>Title</th>\n",
       "      <th>Pub_name</th>\n",
       "      <th>Date</th>\n",
       "      <th>Citation</th>\n",
       "      <th>Url</th>\n",
       "      <th>Affiliation_name</th>\n",
       "      <th>Affiliation_city</th>\n",
       "      <th>Affiliation_country</th>\n",
       "    </tr>\n",
       "  </thead>\n",
       "  <tbody>\n",
       "    <tr>\n",
       "      <td>0</td>\n",
       "      <td>Control of somatic tissue differentiation by t...</td>\n",
       "      <td>Nature</td>\n",
       "      <td>2013-01-10</td>\n",
       "      <td>434</td>\n",
       "      <td>https://api.elsevier.com/content/abstract/scop...</td>\n",
       "      <td>Stanford University School of Medicine,VA Palo...</td>\n",
       "      <td>Stanford,Palo Alto,Cambridge,Chevy Chase,Phila...</td>\n",
       "      <td>United States,United States,United States,Unit...</td>\n",
       "    </tr>\n",
       "  </tbody>\n",
       "</table>\n",
       "</div>"
      ],
      "text/plain": [
       "                                               Title Pub_name        Date Citation                                                Url                                   Affiliation_name                                   Affiliation_city                                Affiliation_country\n",
       "0  Control of somatic tissue differentiation by t...   Nature  2013-01-10      434  https://api.elsevier.com/content/abstract/scop...  Stanford University School of Medicine,VA Palo...  Stanford,Palo Alto,Cambridge,Chevy Chase,Phila...  United States,United States,United States,Unit..."
      ]
     },
     "execution_count": 28,
     "metadata": {},
     "output_type": "execute_result"
    }
   ],
   "source": [
    "df.loc[:,'Title':]"
   ]
  },
  {
   "cell_type": "code",
   "execution_count": null,
   "metadata": {},
   "outputs": [],
   "source": []
  }
 ],
 "metadata": {
  "kernelspec": {
   "display_name": "Python 3",
   "language": "python",
   "name": "python3"
  },
  "language_info": {
   "codemirror_mode": {
    "name": "ipython",
    "version": 3
   },
   "file_extension": ".py",
   "mimetype": "text/x-python",
   "name": "python",
   "nbconvert_exporter": "python",
   "pygments_lexer": "ipython3",
   "version": "3.7.3"
  }
 },
 "nbformat": 4,
 "nbformat_minor": 2
}
